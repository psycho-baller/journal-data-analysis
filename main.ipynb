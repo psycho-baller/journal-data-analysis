{
 "cells": [
  {
   "cell_type": "code",
   "execution_count": null,
   "metadata": {},
   "outputs": [],
   "source": [
    "import pandas as pd\n",
    "# from scipy.stats import pearsonr\n",
    "\n",
    "#create DataFrame\n",
    "df = pd.read_csv('2022-jd.csv')\n",
    "highest = {}\n",
    "\n",
    "cols = df.columns\n",
    "cols = cols.drop('date').drop('bottles drank').drop('times peed').drop('time slept').drop('time awaked').drop('total sleep time').drop('effectiveness (Am I SPENDING the RIGHT TIME)').drop('Sleep Min').drop('Sleep Hr').drop('Awake Hr').drop('% of planned output')\n",
    "\n",
    "\n",
    "# calculate correlation coefficient between all cols\n",
    "for i in range(len(cols)):\n",
    "    for j in range(i+1, len(cols)):\n",
    "        col1 = cols[i]\n",
    "        col2 = cols[j]\n",
    "        # try:\n",
    "        # corr, p = pearsonr(df[col1].dropna(), df[col2].dropna())\n",
    "        # except:\n",
    "        corr = df[col1].corr(df[col2])\n",
    "        # p=None\n",
    "        highest[col1 + '-' + col2] = f'{corr}'#, {p}'\n",
    "\n",
    "highest = sorted(highest.items(), key=lambda x: x[1], reverse=True)\n",
    "for k, v in highest:\n",
    "    print(k, v, sep=':\\t')"
   ]
  },
  {
   "cell_type": "code",
   "execution_count": null,
   "metadata": {},
   "outputs": [],
   "source": [
    "#create DataFrame\n",
    "df = pd.read_csv('2022-jd.csv')\n",
    "highest = {}\n",
    "\n",
    "cols = df.columns\n",
    "cols = cols.drop('date').drop('bottles drank').drop('times peed').drop('time slept').drop('time awaked').drop('total sleep time').drop('effectiveness (Am I SPENDING the RIGHT TIME)').drop('Sleep Min').drop('Sleep Hr').drop('Awake Hr').drop('% of planned output')\n",
    "\n",
    "\n",
    "# calculate correlation coefficient between all cols\n",
    "for i in range(len(cols)):\n",
    "    for j in range(i+1, len(cols)):\n",
    "        col1 = cols[i]\n",
    "        col2 = cols[j]\n",
    "        # try:\n",
    "        # corr, p = pearsonr(df[col1].dropna(), df[col2].dropna())\n",
    "        # except:\n",
    "        corr = df[col1].corr(df[col2])\n",
    "        # p=None\n",
    "        highest[col1 + '-' + col2] = f'{corr}'#, {p}'\n",
    "\n",
    "highest = sorted(highest.items(), key=lambda x: x[1], reverse=True)\n",
    "for k, v in highest:\n",
    "    print(k, v, sep=':\\t')"
   ]
  },
  {
   "cell_type": "code",
   "execution_count": null,
   "metadata": {},
   "outputs": [],
   "source": [
    "import pandas as pd\n",
    "import glob\n",
    "import os\n",
    "\n",
    "path = r'/Users/rami/Library/CloudStorage/OneDrive-UniversityofCalgary/code/python/hello_ds/journal-data-analysis/2022-activity' # use your path\n",
    "\n",
    "all_files = glob.glob(os.path.join(path, \"*.csv\"))\n",
    "df = pd.concat((pd.read_csv(f) for f in all_files), ignore_index=True)\n",
    "\n",
    "# save to csv\n",
    "df.to_csv('2022-a.csv', index=False, encoding='utf-8')\n",
    "\n",
    "path = r'/Users/rami/Library/CloudStorage/OneDrive-UniversityofCalgary/code/python/hello_ds/journal-data-analysis/2022-sleep' # use your path\n",
    "\n",
    "all_files = glob.glob(os.path.join(path, \"*.csv\"))\n",
    "df = pd.concat((pd.read_csv(f) for f in all_files), ignore_index=True)\n",
    "\n",
    "# save to csv\n",
    "df.to_csv('2022-s.csv', index=False, encoding='utf-8')"
   ]
  },
  {
   "cell_type": "code",
   "execution_count": null,
   "metadata": {},
   "outputs": [],
   "source": [
    "# DANGEROUS, remove first line of all files in 'all_files'\n",
    "for f in all_files:\n",
    "    with open(f, 'r') as fin:\n",
    "        data = fin.read().splitlines(True)\n",
    "    with open(f, 'w') as fout:\n",
    "        fout.writelines(data[1:])"
   ]
  },
  {
   "cell_type": "code",
   "execution_count": null,
   "metadata": {},
   "outputs": [],
   "source": [
    "import pandas as pd\n",
    "\n",
    "# Read in the two CSV files\n",
    "df1 = pd.read_csv(\"2022-s.csv\")\n",
    "df2 = pd.read_csv(\"2022-a.csv\")\n",
    "\n",
    "# Merge the two dataframes on a common column\n",
    "merged_df = df2.join(df1.set_index('Date'), on='Date')\n",
    "\n",
    "# Save the merged dataframe to a new CSV file\n",
    "merged_df.to_csv(\"2022-fb.csv\", index=False)"
   ]
  },
  {
   "cell_type": "code",
   "execution_count": 9,
   "metadata": {},
   "outputs": [],
   "source": [
    "with open('2022-m.csv', 'r') as fin:\n",
    "    data = fin.read().splitlines(True)\n",
    "    # get the number of times each date was mentioned\n",
    "    dates = {}\n",
    "    for date in data:\n",
    "        date = date.strip()\n",
    "        if date in dates:\n",
    "            dates[date] += 1\n",
    "        else:\n",
    "            dates[date] = 1"
   ]
  },
  {
   "cell_type": "code",
   "execution_count": 5,
   "metadata": {},
   "outputs": [],
   "source": [
    "\n",
    "import pandas as pd\n",
    "\n",
    "# Read in the two CSV files\n",
    "df1 = pd.read_csv(\"2022-fb.csv\")\n",
    "df2 = pd.read_csv(\"2022-jd.csv\")\n",
    "\n",
    "# Merge the two dataframes on a common column\n",
    "merged_df = df2.join(df1.set_index('Date'), on='Date')\n",
    "\n",
    "# add the number of times each date was mentioned to its row\n",
    "merged_df['scrobbles'] = merged_df['Date'].map(dates)\n",
    "\n",
    "# Save the merged dataframe to a new CSV file\n",
    "merged_df.to_csv(\"2022.csv\", index=False)"
   ]
  },
  {
   "cell_type": "code",
   "execution_count": null,
   "metadata": {},
   "outputs": [],
   "source": [
    "import pandas as pd\n",
    "\n",
    "# Read in the two CSV files\n",
    "df1 = pd.read_csv(\"2022.csv\")\n",
    "df2 = pd.read_csv(\"sleepStress.csv\")\n",
    "\n",
    "# Merge the two dataframes on a common column\n",
    "merged_df = df1.join(df2.set_index('Date'), on='Date')\n",
    "\n",
    "\n",
    "# Save the merged dataframe to a new CSV file\n",
    "merged_df.to_csv(\"2022.csv\", index=False)"
   ]
  }
 ],
 "metadata": {
  "kernelspec": {
   "display_name": "Python 3.9.6 ('env': venv)",
   "language": "python",
   "name": "python3"
  },
  "language_info": {
   "codemirror_mode": {
    "name": "ipython",
    "version": 3
   },
   "file_extension": ".py",
   "mimetype": "text/x-python",
   "name": "python",
   "nbconvert_exporter": "python",
   "pygments_lexer": "ipython3",
   "version": "3.9.6"
  },
  "orig_nbformat": 4,
  "vscode": {
   "interpreter": {
    "hash": "23d0d90f38016824a958eb5242ed43147e2d31b21f92972fc7590f6d3d47e379"
   }
  }
 },
 "nbformat": 4,
 "nbformat_minor": 2
}
