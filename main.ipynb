{
 "cells": [
  {
   "cell_type": "code",
   "execution_count": 114,
   "metadata": {},
   "outputs": [],
   "source": [
    "import pandas as pd\n",
    "# from scipy.stats import pearsonr\n",
    "\n",
    "#create DataFrame\n",
    "df = pd.read_csv('2022-jd.csv')\n"
   ]
  },
  {
   "cell_type": "code",
   "execution_count": 115,
   "metadata": {},
   "outputs": [
    {
     "name": "stdout",
     "output_type": "stream",
     "text": [
      "overall-happiness:\t0.8951773030444721\n",
      "happiness-excitement:\t0.7222670670520442\n",
      "overall-health:\t0.7190140429131078\n",
      "health-positivity:\t0.7182412683488743\n",
      "overall-excitement:\t0.6952100812655261\n",
      "health-happiness:\t0.6733042284840807\n",
      "overall-positivity:\t0.6664853902201708\n",
      "happiness-positivity:\t0.6597862601333967\n",
      "overall-sociability:\t0.6315261881311705\n",
      "integrity-purpose:\t0.6215190484408324\n",
      "health-moment:\t0.6009568200242212\n",
      "positivity-moment:\t0.599453450050934\n",
      "sociability-happiness:\t0.5988704776824503\n",
      "health-energy:\t0.5967354745951695\n",
      "sociability-moment:\t0.5885954042114805\n",
      "overall-moment:\t0.5744434608688106\n",
      "uniqueness-excitement:\t0.5659181810381541\n",
      "sociability-positivity:\t0.5633588115041812\n",
      "energy-excitement:\t0.5551438239214108\n",
      "positivity-integrity:\t0.5446788849253412\n",
      "happiness-moment:\t0.544201654650291\n",
      "moment-integrity:\t0.5364882172442437\n",
      "overall-energy:\t0.5261207810259757\n",
      "happiness-energy:\t0.512283733077104\n",
      "energy-positivity:\t0.49115055863837925\n",
      "positivity-excitement:\t0.48662164352428544\n",
      "sociability-health:\t0.4761371766723543\n",
      "overall-purpose:\t0.45776656381368774\n",
      "sociability-excitement:\t0.4524763893006252\n",
      "health-excitement:\t0.44591115235291834\n",
      "productivity-purpose:\t0.44397468033316473\n",
      "energy-purpose:\t0.4430439837013459\n",
      "overall-integrity:\t0.4280653247624515\n",
      "sociability-integrity:\t0.42510223116545925\n",
      "energy-moment:\t0.42297954122249526\n",
      "moment-purpose:\t0.4119409148472925\n",
      "health-integrity:\t0.41169203235269425\n",
      "sociability-energy:\t0.41106973051669865\n",
      "happiness-integrity:\t0.3939517328967877\n",
      "happiness-purpose:\t0.3898720387238308\n",
      "positivity-purpose:\t0.37991215862137656\n",
      "health-purpose:\t0.3513854721832721\n",
      "moment-excitement:\t0.34032875056438155\n",
      "excitement-purpose:\t0.3021744212150591\n",
      "sociability-purpose:\t0.30198779733935693\n",
      "excitement-integrity:\t0.24511936625937766\n",
      "uniqueness-purpose:\t0.22304517016668418\n",
      "energy-integrity:\t0.22049047112746473\n",
      "productivity-integrity:\t0.13243202213586577\n",
      "uniqueness-integrity:\t0.11332751375557437\n",
      "overall-productivity:\t0.0902236031891546\n",
      "uniqueness-productivity:\t0.06717618450858934\n",
      "happiness-productivity:\t0.0655036821695232\n",
      "health-productivity:\t0.055844517751024336\n",
      "excitement-productivity:\t0.03772763113393028\n",
      "overall-uniqueness:\t0.029231485625128183\n",
      "sociability-productivity:\t0.001150479756183913\n",
      "positivity-uniqueness:\t-0.09989329933747522\n",
      "moment-uniqueness:\t-0.09329153702447963\n",
      "sociability-uniqueness:\t-0.08709190393318131\n",
      "moment-productivity:\t-0.05579065838537002\n",
      "health-uniqueness:\t-0.044114504269321564\n",
      "happiness-uniqueness:\t-0.01697641550843912\n",
      "positivity-productivity:\t-0.0113686595247663\n",
      "energy-productivity:\t-0.008290914625448408\n",
      "energy-uniqueness:\t-0.007496242373561357\n"
     ]
    }
   ],
   "source": [
    "highest = {}\n",
    "\n",
    "cols = df.columns\n",
    "cols = cols.drop('date').drop('bottles drank').drop('times peed').drop('time slept').drop('time awaked').drop('total sleep time').drop('effectiveness (Am I SPENDING the RIGHT TIME)').drop('Sleep Min').drop('Sleep Hr').drop('Awake Hr').drop('% of planned output')\n",
    "\n",
    "\n",
    "# calculate correlation coefficient between all cols\n",
    "for i in range(len(cols)):\n",
    "    for j in range(i+1, len(cols)):\n",
    "        col1 = cols[i]\n",
    "        col2 = cols[j]\n",
    "        # try:\n",
    "        # corr, p = pearsonr(df[col1].dropna(), df[col2].dropna())\n",
    "        # except:\n",
    "        corr = df[col1].corr(df[col2])\n",
    "        # p=None\n",
    "        highest[col1 + '-' + col2] = f'{corr}'#, {p}'\n",
    "\n",
    "highest = sorted(highest.items(), key=lambda x: x[1], reverse=True)\n",
    "for k, v in highest:\n",
    "    print(k, v, sep=':\\t')\n"
   ]
  }
 ],
 "metadata": {
  "kernelspec": {
   "display_name": "Python 3.9.6 ('env': venv)",
   "language": "python",
   "name": "python3"
  },
  "language_info": {
   "codemirror_mode": {
    "name": "ipython",
    "version": 3
   },
   "file_extension": ".py",
   "mimetype": "text/x-python",
   "name": "python",
   "nbconvert_exporter": "python",
   "pygments_lexer": "ipython3",
   "version": "3.9.6"
  },
  "orig_nbformat": 4,
  "vscode": {
   "interpreter": {
    "hash": "f47e74c26abcb7e4333a7c24eb4505a76b4057abc506302e18219fbede561c6e"
   }
  }
 },
 "nbformat": 4,
 "nbformat_minor": 2
}
